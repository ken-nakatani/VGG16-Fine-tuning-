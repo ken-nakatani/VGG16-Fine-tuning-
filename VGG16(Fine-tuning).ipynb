{
 "cells": [
  {
   "cell_type": "code",
   "execution_count": 2,
   "metadata": {
    "scrolled": true
   },
   "outputs": [
    {
     "data": {
      "text/plain": [
       "'/device:GPU:0'"
      ]
     },
     "execution_count": 2,
     "metadata": {},
     "output_type": "execute_result"
    }
   ],
   "source": [
    "import os\n",
    "from keras.applications.vgg16 import VGG16\n",
    "from keras.preprocessing.image import ImageDataGenerator\n",
    "from keras.models import Sequential, Model\n",
    "from keras.layers import Input, Activation, Dropout, Flatten, Dense\n",
    "from keras.preprocessing.image import ImageDataGenerator\n",
    "from keras import optimizers\n",
    "import numpy as np\n",
    "import time\n",
    "import tensorflow as tf\n",
    "tf.test.gpu_device_name()"
   ]
  },
  {
   "cell_type": "code",
   "execution_count": 3,
   "metadata": {},
   "outputs": [],
   "source": [
    "\n",
    "\n",
    "# 分類するクラス\n",
    "classes = [\"Aerial\",\"Airplane\",\"Balloon\",\"couple\",\"Earth\",\"Girl\",\"Lenna\",\"Mandrill\",\"milkdrop\",\"Parrots\",\"Pepper\",\"Sailboat\"]\n",
    "nb_classes = len(classes)\n",
    "#画像の大きさを設定\n",
    "img_width, img_height = 150, 150\n",
    "\n",
    "# トレーニング用とバリデーション用の画像格納先（パスは自分で設定してください）\n",
    "train_data_dir = '/home/nakataniken/変形画像集/train'\n",
    "validation_data_dir = '/home/nakataniken/変形画像集/test'\n",
    "\n",
    "#トレーニングデータ用の画像数\n",
    "nb_train_samples = 10201\n",
    "#バリデーション用の画像数\n",
    "nb_validation_samples = 1212\n",
    "#バッチサイズ\n",
    "batch_size = 100\n",
    "#エポック数\n",
    "nb_epoch = 20"
   ]
  },
  {
   "cell_type": "code",
   "execution_count": 4,
   "metadata": {},
   "outputs": [],
   "source": [
    "# トレーンング用、バリデーション用データを生成するジェネレータ作成\n",
    "train_datagen = ImageDataGenerator(\n",
    "  rescale=1.0 / 255,\n",
    "  #すでに画像の水増し済みの方は、下記２行は必要ありません。\n",
    "  #zoom_range=0.2,\n",
    "  #horizontal_flip=True\n",
    ")\n",
    "\n",
    "validation_datagen = ImageDataGenerator(rescale=1.0 / 255)"
   ]
  },
  {
   "cell_type": "code",
   "execution_count": 5,
   "metadata": {},
   "outputs": [
    {
     "name": "stdout",
     "output_type": "stream",
     "text": [
      "Found 10189 images belonging to 12 classes.\n",
      "Found 1200 images belonging to 12 classes.\n"
     ]
    }
   ],
   "source": [
    "train_generator = train_datagen.flow_from_directory(\n",
    "  train_data_dir,\n",
    "  target_size=(img_width, img_height),\n",
    "  color_mode='rgb',\n",
    "  classes=classes,\n",
    "  class_mode='categorical',\n",
    "  batch_size=batch_size,\n",
    "  shuffle=True)\n",
    "\n",
    "validation_generator = validation_datagen.flow_from_directory(\n",
    "  validation_data_dir,\n",
    "  target_size=(img_width, img_height),\n",
    "  color_mode='rgb',\n",
    "  classes=classes,\n",
    "  class_mode='categorical',\n",
    "  batch_size=batch_size,\n",
    "  shuffle=True)"
   ]
  },
  {
   "cell_type": "code",
   "execution_count": 6,
   "metadata": {},
   "outputs": [
    {
     "name": "stdout",
     "output_type": "stream",
     "text": [
      "WARNING:tensorflow:From /home/nakataniken/anaconda3/envs/keras_python3-7/lib/python3.7/site-packages/keras/backend/tensorflow_backend.py:74: The name tf.get_default_graph is deprecated. Please use tf.compat.v1.get_default_graph instead.\n",
      "\n",
      "WARNING:tensorflow:From /home/nakataniken/anaconda3/envs/keras_python3-7/lib/python3.7/site-packages/keras/backend/tensorflow_backend.py:517: The name tf.placeholder is deprecated. Please use tf.compat.v1.placeholder instead.\n",
      "\n",
      "WARNING:tensorflow:From /home/nakataniken/anaconda3/envs/keras_python3-7/lib/python3.7/site-packages/keras/backend/tensorflow_backend.py:4138: The name tf.random_uniform is deprecated. Please use tf.random.uniform instead.\n",
      "\n",
      "WARNING:tensorflow:From /home/nakataniken/anaconda3/envs/keras_python3-7/lib/python3.7/site-packages/keras/backend/tensorflow_backend.py:3976: The name tf.nn.max_pool is deprecated. Please use tf.nn.max_pool2d instead.\n",
      "\n",
      "WARNING:tensorflow:From /home/nakataniken/anaconda3/envs/keras_python3-7/lib/python3.7/site-packages/keras/backend/tensorflow_backend.py:174: The name tf.get_default_session is deprecated. Please use tf.compat.v1.get_default_session instead.\n",
      "\n",
      "WARNING:tensorflow:From /home/nakataniken/anaconda3/envs/keras_python3-7/lib/python3.7/site-packages/keras/backend/tensorflow_backend.py:181: The name tf.ConfigProto is deprecated. Please use tf.compat.v1.ConfigProto instead.\n",
      "\n",
      "WARNING:tensorflow:From /home/nakataniken/anaconda3/envs/keras_python3-7/lib/python3.7/site-packages/keras/backend/tensorflow_backend.py:3445: calling dropout (from tensorflow.python.ops.nn_ops) with keep_prob is deprecated and will be removed in a future version.\n",
      "Instructions for updating:\n",
      "Please use `rate` instead of `keep_prob`. Rate should be set to `rate = 1 - keep_prob`.\n",
      "WARNING:tensorflow:From /home/nakataniken/anaconda3/envs/keras_python3-7/lib/python3.7/site-packages/keras/optimizers.py:790: The name tf.train.Optimizer is deprecated. Please use tf.compat.v1.train.Optimizer instead.\n",
      "\n"
     ]
    },
    {
     "name": "stderr",
     "output_type": "stream",
     "text": [
      "/home/nakataniken/anaconda3/envs/keras_python3-7/lib/python3.7/site-packages/ipykernel_launcher.py:13: UserWarning: Update your `Model` call to the Keras 2 API: `Model(inputs=Tensor(\"in..., outputs=Tensor(\"se...)`\n",
      "  del sys.path[0]\n"
     ]
    }
   ],
   "source": [
    "# VGG16のロード。FC層は不要なので include_top=False\n",
    "input_tensor = Input(shape=(img_width, img_height, 3))\n",
    "vgg16 = VGG16(include_top=False, weights='imagenet', input_tensor=input_tensor)\n",
    "\n",
    "# VGG16の図の緑色の部分（FC層）の作成\n",
    "top_model = Sequential()\n",
    "top_model.add(Flatten(input_shape=vgg16.output_shape[1:]))\n",
    "top_model.add(Dense(256, activation='relu'))\n",
    "top_model.add(Dropout(0.5))\n",
    "top_model.add(Dense(nb_classes, activation='softmax'))\n",
    "\n",
    "# VGG16とFC層を結合してモデルを作成（完成図が上の図）\n",
    "vgg_model = Model(input=vgg16.input, output=top_model(vgg16.output))\n",
    "\n",
    "# VGG16の図の青色の部分は重みを固定（frozen）\n",
    "for layer in vgg_model.layers[:15]:\n",
    "    layer.trainable = False\n",
    "\n",
    "# 多クラス分類を指定\n",
    "vgg_model.compile(loss='categorical_crossentropy',\n",
    "          optimizer=optimizers.SGD(lr=1e-3, momentum=0.9),\n",
    "          metrics=['accuracy'])"
   ]
  },
  {
   "cell_type": "code",
   "execution_count": 7,
   "metadata": {},
   "outputs": [
    {
     "name": "stdout",
     "output_type": "stream",
     "text": [
      "WARNING:tensorflow:From /home/nakataniken/anaconda3/envs/keras_python3-7/lib/python3.7/site-packages/tensorflow/python/ops/math_grad.py:1250: add_dispatch_support.<locals>.wrapper (from tensorflow.python.ops.array_ops) is deprecated and will be removed in a future version.\n",
      "Instructions for updating:\n",
      "Use tf.where in 2.0, which has the same broadcast rule as np.where\n"
     ]
    },
    {
     "name": "stderr",
     "output_type": "stream",
     "text": [
      "/home/nakataniken/anaconda3/envs/keras_python3-7/lib/python3.7/site-packages/ipykernel_launcher.py:7: UserWarning: The semantics of the Keras 2 argument `steps_per_epoch` is not the same as the Keras 1 argument `samples_per_epoch`. `steps_per_epoch` is the number of batches to draw from the generator at each epoch. Basically steps_per_epoch = samples_per_epoch/batch_size. Similarly `nb_val_samples`->`validation_steps` and `val_samples`->`steps` arguments have changed. Update your method calls accordingly.\n",
      "  import sys\n",
      "/home/nakataniken/anaconda3/envs/keras_python3-7/lib/python3.7/site-packages/ipykernel_launcher.py:7: UserWarning: Update your `fit_generator` call to the Keras 2 API: `fit_generator(<keras_pre..., validation_data=<keras_pre..., steps_per_epoch=102, epochs=20, validation_steps=1212)`\n",
      "  import sys\n"
     ]
    },
    {
     "name": "stdout",
     "output_type": "stream",
     "text": [
      "Epoch 1/20\n",
      "102/102 [==============================] - 128s 1s/step - loss: 1.2020 - acc: 0.6120 - val_loss: 0.0877 - val_acc: 0.9792\n",
      "Epoch 2/20\n",
      "102/102 [==============================] - 122s 1s/step - loss: 0.0989 - acc: 0.9713 - val_loss: 0.0254 - val_acc: 0.9950\n",
      "Epoch 3/20\n",
      "102/102 [==============================] - 122s 1s/step - loss: 0.0454 - acc: 0.9879 - val_loss: 0.0166 - val_acc: 0.9967\n",
      "Epoch 4/20\n",
      "102/102 [==============================] - 123s 1s/step - loss: 0.0244 - acc: 0.9938 - val_loss: 0.0107 - val_acc: 0.9975\n",
      "Epoch 5/20\n",
      "102/102 [==============================] - 126s 1s/step - loss: 0.0162 - acc: 0.9952 - val_loss: 0.0082 - val_acc: 0.9975\n",
      "Epoch 6/20\n",
      "102/102 [==============================] - 129s 1s/step - loss: 0.0141 - acc: 0.9967 - val_loss: 0.0056 - val_acc: 0.9992\n",
      "Epoch 7/20\n",
      "102/102 [==============================] - 130s 1s/step - loss: 0.0097 - acc: 0.9974 - val_loss: 0.0049 - val_acc: 0.9992\n",
      "Epoch 8/20\n",
      "102/102 [==============================] - 129s 1s/step - loss: 0.0075 - acc: 0.9985 - val_loss: 0.0057 - val_acc: 0.9983\n",
      "Epoch 9/20\n",
      "102/102 [==============================] - 128s 1s/step - loss: 0.0075 - acc: 0.9982 - val_loss: 0.0082 - val_acc: 0.9975\n",
      "Epoch 10/20\n",
      "102/102 [==============================] - 128s 1s/step - loss: 0.0057 - acc: 0.9990 - val_loss: 0.0045 - val_acc: 1.0000\n",
      "Epoch 11/20\n",
      "102/102 [==============================] - 125s 1s/step - loss: 0.0051 - acc: 0.9994 - val_loss: 0.0041 - val_acc: 0.9983\n",
      "Epoch 12/20\n",
      "102/102 [==============================] - 123s 1s/step - loss: 0.0049 - acc: 0.9987 - val_loss: 0.0045 - val_acc: 0.9975\n",
      "Epoch 13/20\n",
      "102/102 [==============================] - 123s 1s/step - loss: 0.0047 - acc: 0.9991 - val_loss: 0.0035 - val_acc: 0.9992\n",
      "Epoch 14/20\n",
      "102/102 [==============================] - 123s 1s/step - loss: 0.0033 - acc: 0.9993 - val_loss: 0.0028 - val_acc: 0.9992\n",
      "Epoch 15/20\n",
      "102/102 [==============================] - 123s 1s/step - loss: 0.0037 - acc: 0.9995 - val_loss: 0.0033 - val_acc: 0.9992\n",
      "Epoch 16/20\n",
      "102/102 [==============================] - 123s 1s/step - loss: 0.0033 - acc: 0.9990 - val_loss: 0.0040 - val_acc: 0.9975\n",
      "Epoch 17/20\n",
      "102/102 [==============================] - 123s 1s/step - loss: 0.0033 - acc: 0.9993 - val_loss: 0.0034 - val_acc: 0.9992\n",
      "Epoch 18/20\n",
      "102/102 [==============================] - 123s 1s/step - loss: 0.0027 - acc: 0.9995 - val_loss: 0.0044 - val_acc: 0.9983\n",
      "Epoch 19/20\n",
      "102/102 [==============================] - 123s 1s/step - loss: 0.0020 - acc: 0.9999 - val_loss: 0.0034 - val_acc: 0.9983\n",
      "Epoch 20/20\n",
      "102/102 [==============================] - 123s 1s/step - loss: 0.0018 - acc: 0.9997 - val_loss: 0.0033 - val_acc: 0.9983\n"
     ]
    }
   ],
   "source": [
    "# Fine-tuning\n",
    "history = vgg_model.fit_generator(\n",
    "    train_generator,\n",
    "    samples_per_epoch=nb_train_samples,\n",
    "    nb_epoch=nb_epoch,\n",
    "    validation_data=validation_generator,\n",
    "    nb_val_samples=nb_validation_samples)"
   ]
  },
  {
   "cell_type": "code",
   "execution_count": 9,
   "metadata": {},
   "outputs": [
    {
     "data": {
      "image/png": "[encoded data removed]",
      "text/plain": [
       "<Figure size 432x288 with 1 Axes>"
      ]
     },
     "metadata": {
      "needs_background": "light"
     },
     "output_type": "display_data"
    }
   ],
   "source": [
    "# 学習結果を描写\n",
    "import matplotlib.pyplot as plt\n",
    "\n",
    "#acc, val_accのプロット\n",
    "plt.plot(history.history[\"acc\"], label=\"acc\", ls=\"-\", marker=\"o\")\n",
    "plt.plot(history.history[\"val_acc\"], label=\"val_acc\", ls=\"-\", marker=\"x\")\n",
    "plt.ylabel(\"accuracy\")\n",
    "plt.xlabel(\"epoch\")\n",
    "plt.legend(loc=\"best\")\n",
    "#Final.pngという名前で、結果を保存\n",
    "plt.savefig('Final.png')\n",
    "plt.show()"
   ]
  },
  {
   "cell_type": "code",
   "execution_count": null,
   "metadata": {},
   "outputs": [],
   "source": []
  }
 ],
 "metadata": {
  "kernelspec": {
   "display_name": "Python 3",
   "language": "python",
   "name": "python3"
  },
  "language_info": {
   "codemirror_mode": {
    "name": "ipython",
    "version": 3
   },
   "file_extension": ".py",
   "mimetype": "text/x-python",
   "name": "python",
   "nbconvert_exporter": "python",
   "pygments_lexer": "ipython3",
   "version": "3.7.4"
  }
 },
 "nbformat": 4,
 "nbformat_minor": 2
}
